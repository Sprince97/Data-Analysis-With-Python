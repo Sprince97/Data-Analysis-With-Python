{
 "cells": [
  {
   "cell_type": "markdown",
   "id": "d482f3c0-cbb5-4617-8674-4fdd1c1e82ac",
   "metadata": {},
   "source": [
    "1) Write a Python program to calculate the area of a rectangle given its length and width. "
   ]
  },
  {
   "cell_type": "code",
   "execution_count": 2,
   "id": "9990c492-7346-4eb8-845d-b5b8e5a600f1",
   "metadata": {},
   "outputs": [
    {
     "name": "stdout",
     "output_type": "stream",
     "text": [
      "Rectangle -Area calculator\n"
     ]
    },
    {
     "name": "stdin",
     "output_type": "stream",
     "text": [
      "Enter length : 15\n",
      "Enter breath : 20\n"
     ]
    },
    {
     "name": "stdout",
     "output_type": "stream",
     "text": [
      "Area of the rectangle is 300.0\n"
     ]
    }
   ],
   "source": [
    "print (\"Rectangle -Area calculator\")\n",
    "length= float(input(\"Enter length :\"))\n",
    "breath= float(input(\"Enter breath :\"))\n",
    "area = length * breath\n",
    "print(\"Area of the rectangle is\", area)"
   ]
  },
  {
   "attachments": {
    "28d149ac-b75b-417c-b926-124c75831ad1.png": {
     "image/png": "[encoded data removed]"
    }
   },
   "cell_type": "markdown",
   "id": "346e0d30-370c-4967-b041-fbf4b7410ee1",
   "metadata": {},
   "source": [
    "2) Write a Python program which accepts the radius of a circle from the user and compute the area.\n",
    "![image.png](attachment:28d149ac-b75b-417c-b926-124c75831ad1.png)"
   ]
  },
  {
   "cell_type": "code",
   "execution_count": 3,
   "id": "18e64a85-1443-4195-b2c2-8c4ec4ff50d6",
   "metadata": {},
   "outputs": [
    {
     "name": "stdin",
     "output_type": "stream",
     "text": [
      "please provide the radius of a circle:  5\n"
     ]
    },
    {
     "name": "stdout",
     "output_type": "stream",
     "text": [
      "78.53981633974483\n"
     ]
    }
   ],
   "source": [
    "import numpy as np\n",
    "pi_value = np.pi\n",
    "radius = float(input(\"please provide the radius of a circle: \"))\n",
    "area = pi_value*(radius**2)\n",
    "print(area)"
   ]
  },
  {
   "cell_type": "code",
   "execution_count": 4,
   "id": "6d674090-5987-4fbb-bbf4-4dbd8880444e",
   "metadata": {},
   "outputs": [
    {
     "name": "stdin",
     "output_type": "stream",
     "text": [
      "Enter Radius 5\n"
     ]
    },
    {
     "name": "stdout",
     "output_type": "stream",
     "text": [
      "Area = 78.5\n"
     ]
    }
   ],
   "source": [
    "radius = float(input(\"Enter Radius\"))\n",
    "area = 3.14 * radius * radius\n",
    "print(\"Area =\", area)"
   ]
  },
  {
   "cell_type": "code",
   "execution_count": 6,
   "id": "4d67ed77-fd9f-4755-8d78-9943dc6efda9",
   "metadata": {},
   "outputs": [
    {
     "name": "stdin",
     "output_type": "stream",
     "text": [
      "Please enter the radius of your circle!\n",
      " 5\n"
     ]
    },
    {
     "name": "stdout",
     "output_type": "stream",
     "text": [
      "The area of your circle is:  78.54\n"
     ]
    }
   ],
   "source": [
    "radius = float(input(\"Please enter the radius of your circle!\\n\"))\n",
    "area = 3.1416 * (radius**2)\n",
    "print(\"The area of your circle is: \", round(area,2))"
   ]
  },
  {
   "cell_type": "markdown",
   "id": "5aa901c8-ce68-4489-b3b7-0126e03debb0",
   "metadata": {},
   "source": [
    "3) Convert temperature from Celsius to Fahrenheit."
   ]
  },
  {
   "cell_type": "code",
   "execution_count": 7,
   "id": "cdd24574-4e16-4c5a-8a35-8a4fde04ed66",
   "metadata": {},
   "outputs": [
    {
     "name": "stdout",
     "output_type": "stream",
     "text": [
      "Lets start converting the temperature\n"
     ]
    },
    {
     "name": "stdin",
     "output_type": "stream",
     "text": [
      "please enter the temperature value:  20\n",
      "To convert the temperature, please enter 1 or 2: \t 1. Celcius to Fahrenheit \t 2. Fahrenheit to Celcius 2\n"
     ]
    },
    {
     "name": "stdout",
     "output_type": "stream",
     "text": [
      "-6.666666666666667\n"
     ]
    }
   ],
   "source": [
    "print(\"Lets start converting the temperature\")\n",
    "temperature = float(input(\"please enter the temperature value: \"))\n",
    "conversion= int(input(\"To convert the temperature, please enter 1 or 2: \\t 1. Celcius to Fahrenheit \\t 2. Fahrenheit to Celcius\"))\n",
    "if conversion == 1:\n",
    "   print ((temperature*(9/5))+32)\n",
    "else:\n",
    "   print(((temperature - 32)* 5)/9)"
   ]
  },
  {
   "cell_type": "code",
   "execution_count": 8,
   "id": "a51459ae-6444-4479-8f95-83654690300e",
   "metadata": {},
   "outputs": [
    {
     "name": "stdout",
     "output_type": "stream",
     "text": [
      "Celsius to Fahrenheit Converter\n"
     ]
    },
    {
     "name": "stdin",
     "output_type": "stream",
     "text": [
      "Enter Celsius  :   25\n"
     ]
    },
    {
     "name": "stdout",
     "output_type": "stream",
     "text": [
      "25.0 Celsius is equal to 77.0 Fahrenheit\n"
     ]
    }
   ],
   "source": [
    "print(\"Celsius to Fahrenheit Converter\")\n",
    "\n",
    "celcius = float(input(\"Enter Celsius  :  \"))\n",
    "\n",
    "fahrenheit = (celcius * 9/5) + 32\n",
    "\n",
    "print (celcius, \"Celsius is equal to\",fahrenheit ,\"Fahrenheit\")"
   ]
  },
  {
   "cell_type": "markdown",
   "id": "ce8d0867-1fec-437f-a385-5cc7966be593",
   "metadata": {},
   "source": [
    "4) Implement a program that converts a given number from a user of minutes into hours and minutes"
   ]
  },
  {
   "cell_type": "code",
   "execution_count": 10,
   "id": "16edd8e2-f113-4d8b-82cd-c369a8ef1034",
   "metadata": {},
   "outputs": [
    {
     "name": "stdin",
     "output_type": "stream",
     "text": [
      "what is the number of minutes:  587\n"
     ]
    },
    {
     "name": "stdout",
     "output_type": "stream",
     "text": [
      "number of Hrs and mins is  9 hrs and 47 mins\n"
     ]
    }
   ],
   "source": [
    "minutes = int(input(\"what is the number of minutes: \"))\n",
    "hours = minutes//60\n",
    "remainder_mins = minutes%60\n",
    "print(\"number of Hrs and mins is \", round(hours), \"hrs and\", remainder_mins, \"mins\")"
   ]
  },
  {
   "cell_type": "code",
   "execution_count": 15,
   "id": "b1b85e7e-aa82-4614-9957-a722d76af22f",
   "metadata": {},
   "outputs": [
    {
     "name": "stdin",
     "output_type": "stream",
     "text": [
      "Enter Minutes 25\n"
     ]
    },
    {
     "name": "stdout",
     "output_type": "stream",
     "text": [
      "25.0 minutes is converted to 0.0 hours 25.0 Minutes\n"
     ]
    }
   ],
   "source": [
    "minutes = float(input(\"Enter Minutes\"))\n",
    "\n",
    "minutes_conversion_into_hours = minutes//60\n",
    "\n",
    "remainder_minutes = minutes%60\n",
    "\n",
    "print(minutes,\"minutes\",\"is converted to\",minutes_conversion_into_hours,\"hours\",remainder_minutes,\"Minutes\")"
   ]
  },
  {
   "cell_type": "code",
   "execution_count": 13,
   "id": "851bf887-95e1-4b10-97cb-a6468e46f434",
   "metadata": {},
   "outputs": [
    {
     "name": "stdout",
     "output_type": "stream",
     "text": [
      "2 minutes 4\n"
     ]
    },
    {
     "ename": "TypeError",
     "evalue": "unsupported operand type(s) for +: 'int' and 'str'",
     "output_type": "error",
     "traceback": [
      "\u001b[1;31m---------------------------------------------------------------------------\u001b[0m",
      "\u001b[1;31mTypeError\u001b[0m                                 Traceback (most recent call last)",
      "\u001b[1;32m~\\AppData\\Local\\Temp\\ipykernel_14584\\828207534.py\u001b[0m in \u001b[0;36m<module>\u001b[1;34m\u001b[0m\n\u001b[0;32m      1\u001b[0m \u001b[0mprint\u001b[0m\u001b[1;33m(\u001b[0m\u001b[1;36m2\u001b[0m\u001b[1;33m,\u001b[0m \u001b[1;34m\"minutes\"\u001b[0m\u001b[1;33m,\u001b[0m \u001b[1;36m4\u001b[0m\u001b[1;33m)\u001b[0m\u001b[1;33m\u001b[0m\u001b[1;33m\u001b[0m\u001b[0m\n\u001b[0;32m      2\u001b[0m \u001b[1;33m\u001b[0m\u001b[0m\n\u001b[1;32m----> 3\u001b[1;33m \u001b[0mprint\u001b[0m\u001b[1;33m(\u001b[0m\u001b[1;36m2\u001b[0m \u001b[1;33m+\u001b[0m \u001b[1;34m\"minutes\"\u001b[0m \u001b[1;33m+\u001b[0m \u001b[1;36m4\u001b[0m\u001b[1;33m)\u001b[0m\u001b[1;33m\u001b[0m\u001b[1;33m\u001b[0m\u001b[0m\n\u001b[0m",
      "\u001b[1;31mTypeError\u001b[0m: unsupported operand type(s) for +: 'int' and 'str'"
     ]
    }
   ],
   "source": [
    "print(2, \"minutes\", 4)\n",
    "\n",
    "print(2 + \"minutes\" + 4)"
   ]
  },
  {
   "cell_type": "code",
   "execution_count": 16,
   "id": "b3b4fe2c-1ecd-421f-98e6-6909d01f243e",
   "metadata": {},
   "outputs": [
    {
     "name": "stdin",
     "output_type": "stream",
     "text": [
      "Please enter the minutes you wish to convert!\n",
      " 75.2\n"
     ]
    },
    {
     "name": "stdout",
     "output_type": "stream",
     "text": [
      "Your entered time would be 1 hours and 15 minutes and 12.0 seconds!\n"
     ]
    }
   ],
   "source": [
    "userTime = float(input(\"Please enter the minutes you wish to convert!\\n\"))\n",
    "print(\"Your entered time would be\", int(userTime//60), \"hours and\", \n",
    "      int(userTime%60), \"minutes and\", \n",
    "      round((userTime - int(userTime))*60, 2), \"seconds!\")"
   ]
  },
  {
   "attachments": {
    "2e99945d-20b4-481c-8e17-b0bfbda062d1.png": {
     "image/png": "[encoded data removed]"
    }
   },
   "cell_type": "markdown",
   "id": "88dff362-a3f1-4781-b062-47781471cb10",
   "metadata": {},
   "source": [
    "Your task is to complete the code in order to evaluate the following expression:![image.png](attachment:2e99945d-20b4-481c-8e17-b0bfbda062d1.png)"
   ]
  },
  {
   "cell_type": "code",
   "execution_count": 19,
   "id": "c9dd9568-7d8d-4d58-bd15-af60cebb64fb",
   "metadata": {},
   "outputs": [
    {
     "name": "stdin",
     "output_type": "stream",
     "text": [
      "please enter a number:  10\n"
     ]
    },
    {
     "name": "stdout",
     "output_type": "stream",
     "text": [
      "0.09901951266867294\n"
     ]
    }
   ],
   "source": [
    "x = float(input(\"please enter a number: \"))\n",
    " \n",
    "print(1/(x+1/(x+1/(x+1/x))))"
   ]
  }
 ],
 "metadata": {
  "kernelspec": {
   "display_name": "Python 3 (ipykernel)",
   "language": "python",
   "name": "python3"
  },
  "language_info": {
   "codemirror_mode": {
    "name": "ipython",
    "version": 3
   },
   "file_extension": ".py",
   "mimetype": "text/x-python",
   "name": "python",
   "nbconvert_exporter": "python",
   "pygments_lexer": "ipython3",
   "version": "3.9.13"
  }
 },
 "nbformat": 4,
 "nbformat_minor": 5
}
